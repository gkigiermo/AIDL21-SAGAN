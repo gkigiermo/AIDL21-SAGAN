{
 "cells": [
  {
   "cell_type": "code",
   "execution_count": null,
   "id": "transsexual-trail",
   "metadata": {},
   "outputs": [],
   "source": []
  },
  {
   "cell_type": "code",
   "execution_count": 1,
   "id": "acquired-construction",
   "metadata": {},
   "outputs": [
    {
     "data": {
      "image/png": "[encoded data removed]",
      "text/plain": [
       "<Figure size 360x72 with 1 Axes>"
      ]
     },
     "metadata": {
      "needs_background": "light"
     },
     "output_type": "display_data"
    }
   ],
   "source": [
    "import json\n",
    "import os\n",
    "import shutil\n",
    "import glob\n",
    "import numpy as np\n",
    "import pandas as pd\n",
    "from pandas.io.json import json_normalize\n",
    "import cv2\n",
    "import seaborn as sns\n",
    "import missingno as msno \n",
    "import altair as alt\n",
    "import matplotlib.pyplot as plt\n",
    "import torch\n",
    "import torch.nn.functional as F\n",
    "\n",
    "import warnings\n",
    "warnings.filterwarnings(\"ignore\")\n",
    "\n",
    "# Set Color Palettes for the notebook\n",
    "colors_nude = ['#D3C2ED', '#B0EBF7', '#A7E09D', '#FAE9AA', '#EDAB9A']\n",
    "sns.palplot(sns.color_palette(colors_nude))\n",
    "\n",
    "# Set Style\n",
    "sns.set_style(\"whitegrid\")\n",
    "sns.despine(left=True, bottom=True)"
   ]
  },
  {
   "cell_type": "code",
   "execution_count": 2,
   "id": "graphic-episode",
   "metadata": {},
   "outputs": [
    {
     "name": "stdout",
     "output_type": "stream",
     "text": [
      "0 10\n",
      "1 12\n"
     ]
    }
   ],
   "source": [
    "for i, c in enumerate([10,12]):\n",
    "    print(i, c)\n",
    "    "
   ]
  },
  {
   "cell_type": "code",
   "execution_count": 3,
   "id": "settled-advocacy",
   "metadata": {},
   "outputs": [],
   "source": [
    "base_path = \"./ISIC-Archive/Data/\"\n",
    "csv_path = os.path.join(base_path, \"metadata.csv\")"
   ]
  },
  {
   "cell_type": "code",
   "execution_count": 4,
   "id": "junior-station",
   "metadata": {},
   "outputs": [
    {
     "data": {
      "text/html": [
       "<div>\n",
       "<style scoped>\n",
       "    .dataframe tbody tr th:only-of-type {\n",
       "        vertical-align: middle;\n",
       "    }\n",
       "\n",
       "    .dataframe tbody tr th {\n",
       "        vertical-align: top;\n",
       "    }\n",
       "\n",
       "    .dataframe thead th {\n",
       "        text-align: right;\n",
       "    }\n",
       "</style>\n",
       "<table border=\"1\" class=\"dataframe\">\n",
       "  <thead>\n",
       "    <tr style=\"text-align: right;\">\n",
       "      <th></th>\n",
       "      <th>ID</th>\n",
       "      <th>dcm_name</th>\n",
       "      <th>age</th>\n",
       "      <th>anatomy</th>\n",
       "      <th>benign_malignant</th>\n",
       "      <th>diagnosis</th>\n",
       "      <th>sex</th>\n",
       "      <th>target</th>\n",
       "    </tr>\n",
       "  </thead>\n",
       "  <tbody>\n",
       "    <tr>\n",
       "      <th>0</th>\n",
       "      <td>5436e3acbae478396759f0d1</td>\n",
       "      <td>ISIC_0000001</td>\n",
       "      <td>30.0</td>\n",
       "      <td>anterior torso</td>\n",
       "      <td>benign</td>\n",
       "      <td>nevus</td>\n",
       "      <td>female</td>\n",
       "      <td>0</td>\n",
       "    </tr>\n",
       "    <tr>\n",
       "      <th>1</th>\n",
       "      <td>5436e3acbae478396759f0d3</td>\n",
       "      <td>ISIC_0000002</td>\n",
       "      <td>60.0</td>\n",
       "      <td>upper extremity</td>\n",
       "      <td>malignant</td>\n",
       "      <td>melanoma</td>\n",
       "      <td>female</td>\n",
       "      <td>1</td>\n",
       "    </tr>\n",
       "    <tr>\n",
       "      <th>2</th>\n",
       "      <td>5436e3acbae478396759f0d5</td>\n",
       "      <td>ISIC_0000003</td>\n",
       "      <td>30.0</td>\n",
       "      <td>upper extremity</td>\n",
       "      <td>benign</td>\n",
       "      <td>nevus</td>\n",
       "      <td>male</td>\n",
       "      <td>0</td>\n",
       "    </tr>\n",
       "    <tr>\n",
       "      <th>3</th>\n",
       "      <td>5436e3acbae478396759f0d9</td>\n",
       "      <td>ISIC_0000005</td>\n",
       "      <td>40.0</td>\n",
       "      <td>anterior torso</td>\n",
       "      <td>benign</td>\n",
       "      <td>nevus</td>\n",
       "      <td>female</td>\n",
       "      <td>0</td>\n",
       "    </tr>\n",
       "    <tr>\n",
       "      <th>4</th>\n",
       "      <td>5436e3acbae478396759f0df</td>\n",
       "      <td>ISIC_0000008</td>\n",
       "      <td>30.0</td>\n",
       "      <td>anterior torso</td>\n",
       "      <td>benign</td>\n",
       "      <td>nevus</td>\n",
       "      <td>female</td>\n",
       "      <td>0</td>\n",
       "    </tr>\n",
       "    <tr>\n",
       "      <th>...</th>\n",
       "      <td>...</td>\n",
       "      <td>...</td>\n",
       "      <td>...</td>\n",
       "      <td>...</td>\n",
       "      <td>...</td>\n",
       "      <td>...</td>\n",
       "      <td>...</td>\n",
       "      <td>...</td>\n",
       "    </tr>\n",
       "    <tr>\n",
       "      <th>22918</th>\n",
       "      <td>IP_3970525</td>\n",
       "      <td>ISIC_9974166</td>\n",
       "      <td>45.0</td>\n",
       "      <td>torso</td>\n",
       "      <td>benign</td>\n",
       "      <td>nevus</td>\n",
       "      <td>female</td>\n",
       "      <td>0</td>\n",
       "    </tr>\n",
       "    <tr>\n",
       "      <th>22919</th>\n",
       "      <td>IP_9245079</td>\n",
       "      <td>ISIC_9975949</td>\n",
       "      <td>40.0</td>\n",
       "      <td>torso</td>\n",
       "      <td>benign</td>\n",
       "      <td>nevus</td>\n",
       "      <td>male</td>\n",
       "      <td>0</td>\n",
       "    </tr>\n",
       "    <tr>\n",
       "      <th>22920</th>\n",
       "      <td>IP_2673125</td>\n",
       "      <td>ISIC_9977219</td>\n",
       "      <td>60.0</td>\n",
       "      <td>torso</td>\n",
       "      <td>benign</td>\n",
       "      <td>nevus</td>\n",
       "      <td>male</td>\n",
       "      <td>0</td>\n",
       "    </tr>\n",
       "    <tr>\n",
       "      <th>22921</th>\n",
       "      <td>IP_3091321</td>\n",
       "      <td>ISIC_9979765</td>\n",
       "      <td>45.0</td>\n",
       "      <td>torso</td>\n",
       "      <td>benign</td>\n",
       "      <td>nevus</td>\n",
       "      <td>male</td>\n",
       "      <td>0</td>\n",
       "    </tr>\n",
       "    <tr>\n",
       "      <th>22922</th>\n",
       "      <td>IP_0046310</td>\n",
       "      <td>ISIC_9999806</td>\n",
       "      <td>45.0</td>\n",
       "      <td>torso</td>\n",
       "      <td>benign</td>\n",
       "      <td>nevus</td>\n",
       "      <td>male</td>\n",
       "      <td>0</td>\n",
       "    </tr>\n",
       "  </tbody>\n",
       "</table>\n",
       "<p>22923 rows × 8 columns</p>\n",
       "</div>"
      ],
      "text/plain": [
       "                             ID      dcm_name   age          anatomy  \\\n",
       "0      5436e3acbae478396759f0d1  ISIC_0000001  30.0   anterior torso   \n",
       "1      5436e3acbae478396759f0d3  ISIC_0000002  60.0  upper extremity   \n",
       "2      5436e3acbae478396759f0d5  ISIC_0000003  30.0  upper extremity   \n",
       "3      5436e3acbae478396759f0d9  ISIC_0000005  40.0   anterior torso   \n",
       "4      5436e3acbae478396759f0df  ISIC_0000008  30.0   anterior torso   \n",
       "...                         ...           ...   ...              ...   \n",
       "22918                IP_3970525  ISIC_9974166  45.0            torso   \n",
       "22919                IP_9245079  ISIC_9975949  40.0            torso   \n",
       "22920                IP_2673125  ISIC_9977219  60.0            torso   \n",
       "22921                IP_3091321  ISIC_9979765  45.0            torso   \n",
       "22922                IP_0046310  ISIC_9999806  45.0            torso   \n",
       "\n",
       "      benign_malignant diagnosis     sex  target  \n",
       "0               benign     nevus  female       0  \n",
       "1            malignant  melanoma  female       1  \n",
       "2               benign     nevus    male       0  \n",
       "3               benign     nevus  female       0  \n",
       "4               benign     nevus  female       0  \n",
       "...                ...       ...     ...     ...  \n",
       "22918           benign     nevus  female       0  \n",
       "22919           benign     nevus    male       0  \n",
       "22920           benign     nevus    male       0  \n",
       "22921           benign     nevus    male       0  \n",
       "22922           benign     nevus    male       0  \n",
       "\n",
       "[22923 rows x 8 columns]"
      ]
     },
     "execution_count": 4,
     "metadata": {},
     "output_type": "execute_result"
    }
   ],
   "source": [
    "_df = pd.read_csv(csv_path)\n",
    "_df"
   ]
  },
  {
   "cell_type": "code",
   "execution_count": 5,
   "id": "moderate-calcium",
   "metadata": {},
   "outputs": [
    {
     "data": {
      "text/plain": [
       "array(['nevus', 'melanoma', 'seborrheic keratosis', 'lichenoid keratosis',\n",
       "       'basal cell carcinoma', 'angioma', 'solar lentigo', 'lentigo NOS',\n",
       "       'lentigo simplex', 'actinic keratosis', 'dermatofibroma',\n",
       "       'atypical melanocytic proliferation',\n",
       "       'angiofibroma or fibrous papule', 'squamous cell carcinoma',\n",
       "       'scar', 'cafe-au-lait macule'], dtype=object)"
      ]
     },
     "execution_count": 5,
     "metadata": {},
     "output_type": "execute_result"
    }
   ],
   "source": [
    "_df['diagnosis'].unique()"
   ]
  },
  {
   "cell_type": "code",
   "execution_count": 6,
   "id": "painted-bouquet",
   "metadata": {},
   "outputs": [],
   "source": [
    "_df['diagnosis'].replace(r'unknown', np.nan, inplace = True)\n",
    "_df['diagnosis'].replace(r'other', np.nan, inplace = True)"
   ]
  },
  {
   "cell_type": "code",
   "execution_count": 7,
   "id": "completed-alberta",
   "metadata": {},
   "outputs": [],
   "source": [
    "# m = _df['variable'].isna().groupby(df['name']).all()\n",
    "m = _df['diagnosis'].isna()\n",
    "df_diagnosis = _df[~m]"
   ]
  },
  {
   "cell_type": "code",
   "execution_count": 8,
   "id": "broken-double",
   "metadata": {},
   "outputs": [
    {
     "data": {
      "text/plain": [
       "22923"
      ]
     },
     "execution_count": 8,
     "metadata": {},
     "output_type": "execute_result"
    }
   ],
   "source": [
    "data_path = '/media/mestecha/Samsung_T5/SAGAN/ISIC-Archive/Data/Images/'\n",
    "images = df_diagnosis['dcm_name'].tolist()\n",
    "len(images)"
   ]
  },
  {
   "cell_type": "markdown",
   "id": "removed-wilderness",
   "metadata": {},
   "source": [
    "___"
   ]
  },
  {
   "cell_type": "code",
   "execution_count": 9,
   "id": "realistic-fisher",
   "metadata": {},
   "outputs": [],
   "source": [
    "from os import listdir\n",
    "from os.path import isfile, join\n",
    "\n",
    "fullfiles = []\n",
    "\n",
    "for path, subdirs, files in os.walk(data_path):\n",
    "        for name in files:\n",
    "            if os.path.splitext(name)[0] in images:\n",
    "#                 if corrupted_image(os.path.join(path, name)):\n",
    "#                     corrupted.append(os.path.join(path, name))\n",
    "                fullfiles.append(os.path.join(path, name))"
   ]
  },
  {
   "cell_type": "code",
   "execution_count": 10,
   "id": "later-pride",
   "metadata": {},
   "outputs": [
    {
     "data": {
      "text/plain": [
       "22923"
      ]
     },
     "execution_count": 10,
     "metadata": {},
     "output_type": "execute_result"
    }
   ],
   "source": [
    "len(fullfiles)"
   ]
  },
  {
   "cell_type": "code",
   "execution_count": 11,
   "id": "sublime-debate",
   "metadata": {},
   "outputs": [],
   "source": [
    "from skimage import io\n",
    "\n",
    "def corrupted_image(img_file):\n",
    "    try:\n",
    "        img = io.imread(img_file)\n",
    "    except:\n",
    "        return True\n",
    "    return False\n",
    "\n",
    "corrupted = []\n",
    "for i in range(len(fullfiles)):\n",
    "    if corrupted_image(fullfiles[i]):\n",
    "        corrupted.append(fullfiles[i])"
   ]
  },
  {
   "cell_type": "code",
   "execution_count": 12,
   "id": "actual-acrylic",
   "metadata": {},
   "outputs": [
    {
     "data": {
      "text/plain": [
       "['/media/mestecha/Samsung_T5/SAGAN/ISIC-Archive/Data/Images/ISIC_0011433.jpeg']"
      ]
     },
     "execution_count": 12,
     "metadata": {},
     "output_type": "execute_result"
    }
   ],
   "source": [
    "corrupted"
   ]
  },
  {
   "cell_type": "code",
   "execution_count": 13,
   "id": "exotic-baptist",
   "metadata": {},
   "outputs": [
    {
     "data": {
      "text/html": [
       "<div>\n",
       "<style scoped>\n",
       "    .dataframe tbody tr th:only-of-type {\n",
       "        vertical-align: middle;\n",
       "    }\n",
       "\n",
       "    .dataframe tbody tr th {\n",
       "        vertical-align: top;\n",
       "    }\n",
       "\n",
       "    .dataframe thead th {\n",
       "        text-align: right;\n",
       "    }\n",
       "</style>\n",
       "<table border=\"1\" class=\"dataframe\">\n",
       "  <thead>\n",
       "    <tr style=\"text-align: right;\">\n",
       "      <th></th>\n",
       "      <th>ID</th>\n",
       "      <th>dcm_name</th>\n",
       "      <th>age</th>\n",
       "      <th>anatomy</th>\n",
       "      <th>benign_malignant</th>\n",
       "      <th>diagnosis</th>\n",
       "      <th>sex</th>\n",
       "      <th>target</th>\n",
       "    </tr>\n",
       "  </thead>\n",
       "  <tbody>\n",
       "    <tr>\n",
       "      <th>0</th>\n",
       "      <td>5436e3acbae478396759f0d1</td>\n",
       "      <td>ISIC_0000001</td>\n",
       "      <td>30.0</td>\n",
       "      <td>anterior torso</td>\n",
       "      <td>benign</td>\n",
       "      <td>nevus</td>\n",
       "      <td>female</td>\n",
       "      <td>0</td>\n",
       "    </tr>\n",
       "    <tr>\n",
       "      <th>1</th>\n",
       "      <td>5436e3acbae478396759f0d3</td>\n",
       "      <td>ISIC_0000002</td>\n",
       "      <td>60.0</td>\n",
       "      <td>upper extremity</td>\n",
       "      <td>malignant</td>\n",
       "      <td>melanoma</td>\n",
       "      <td>female</td>\n",
       "      <td>1</td>\n",
       "    </tr>\n",
       "    <tr>\n",
       "      <th>2</th>\n",
       "      <td>5436e3acbae478396759f0d5</td>\n",
       "      <td>ISIC_0000003</td>\n",
       "      <td>30.0</td>\n",
       "      <td>upper extremity</td>\n",
       "      <td>benign</td>\n",
       "      <td>nevus</td>\n",
       "      <td>male</td>\n",
       "      <td>0</td>\n",
       "    </tr>\n",
       "    <tr>\n",
       "      <th>3</th>\n",
       "      <td>5436e3acbae478396759f0d9</td>\n",
       "      <td>ISIC_0000005</td>\n",
       "      <td>40.0</td>\n",
       "      <td>anterior torso</td>\n",
       "      <td>benign</td>\n",
       "      <td>nevus</td>\n",
       "      <td>female</td>\n",
       "      <td>0</td>\n",
       "    </tr>\n",
       "    <tr>\n",
       "      <th>4</th>\n",
       "      <td>5436e3acbae478396759f0df</td>\n",
       "      <td>ISIC_0000008</td>\n",
       "      <td>30.0</td>\n",
       "      <td>anterior torso</td>\n",
       "      <td>benign</td>\n",
       "      <td>nevus</td>\n",
       "      <td>female</td>\n",
       "      <td>0</td>\n",
       "    </tr>\n",
       "    <tr>\n",
       "      <th>...</th>\n",
       "      <td>...</td>\n",
       "      <td>...</td>\n",
       "      <td>...</td>\n",
       "      <td>...</td>\n",
       "      <td>...</td>\n",
       "      <td>...</td>\n",
       "      <td>...</td>\n",
       "      <td>...</td>\n",
       "    </tr>\n",
       "    <tr>\n",
       "      <th>22918</th>\n",
       "      <td>IP_3970525</td>\n",
       "      <td>ISIC_9974166</td>\n",
       "      <td>45.0</td>\n",
       "      <td>torso</td>\n",
       "      <td>benign</td>\n",
       "      <td>nevus</td>\n",
       "      <td>female</td>\n",
       "      <td>0</td>\n",
       "    </tr>\n",
       "    <tr>\n",
       "      <th>22919</th>\n",
       "      <td>IP_9245079</td>\n",
       "      <td>ISIC_9975949</td>\n",
       "      <td>40.0</td>\n",
       "      <td>torso</td>\n",
       "      <td>benign</td>\n",
       "      <td>nevus</td>\n",
       "      <td>male</td>\n",
       "      <td>0</td>\n",
       "    </tr>\n",
       "    <tr>\n",
       "      <th>22920</th>\n",
       "      <td>IP_2673125</td>\n",
       "      <td>ISIC_9977219</td>\n",
       "      <td>60.0</td>\n",
       "      <td>torso</td>\n",
       "      <td>benign</td>\n",
       "      <td>nevus</td>\n",
       "      <td>male</td>\n",
       "      <td>0</td>\n",
       "    </tr>\n",
       "    <tr>\n",
       "      <th>22921</th>\n",
       "      <td>IP_3091321</td>\n",
       "      <td>ISIC_9979765</td>\n",
       "      <td>45.0</td>\n",
       "      <td>torso</td>\n",
       "      <td>benign</td>\n",
       "      <td>nevus</td>\n",
       "      <td>male</td>\n",
       "      <td>0</td>\n",
       "    </tr>\n",
       "    <tr>\n",
       "      <th>22922</th>\n",
       "      <td>IP_0046310</td>\n",
       "      <td>ISIC_9999806</td>\n",
       "      <td>45.0</td>\n",
       "      <td>torso</td>\n",
       "      <td>benign</td>\n",
       "      <td>nevus</td>\n",
       "      <td>male</td>\n",
       "      <td>0</td>\n",
       "    </tr>\n",
       "  </tbody>\n",
       "</table>\n",
       "<p>22922 rows × 8 columns</p>\n",
       "</div>"
      ],
      "text/plain": [
       "                             ID      dcm_name   age          anatomy  \\\n",
       "0      5436e3acbae478396759f0d1  ISIC_0000001  30.0   anterior torso   \n",
       "1      5436e3acbae478396759f0d3  ISIC_0000002  60.0  upper extremity   \n",
       "2      5436e3acbae478396759f0d5  ISIC_0000003  30.0  upper extremity   \n",
       "3      5436e3acbae478396759f0d9  ISIC_0000005  40.0   anterior torso   \n",
       "4      5436e3acbae478396759f0df  ISIC_0000008  30.0   anterior torso   \n",
       "...                         ...           ...   ...              ...   \n",
       "22918                IP_3970525  ISIC_9974166  45.0            torso   \n",
       "22919                IP_9245079  ISIC_9975949  40.0            torso   \n",
       "22920                IP_2673125  ISIC_9977219  60.0            torso   \n",
       "22921                IP_3091321  ISIC_9979765  45.0            torso   \n",
       "22922                IP_0046310  ISIC_9999806  45.0            torso   \n",
       "\n",
       "      benign_malignant diagnosis     sex  target  \n",
       "0               benign     nevus  female       0  \n",
       "1            malignant  melanoma  female       1  \n",
       "2               benign     nevus    male       0  \n",
       "3               benign     nevus  female       0  \n",
       "4               benign     nevus  female       0  \n",
       "...                ...       ...     ...     ...  \n",
       "22918           benign     nevus  female       0  \n",
       "22919           benign     nevus    male       0  \n",
       "22920           benign     nevus    male       0  \n",
       "22921           benign     nevus    male       0  \n",
       "22922           benign     nevus    male       0  \n",
       "\n",
       "[22922 rows x 8 columns]"
      ]
     },
     "execution_count": 13,
     "metadata": {},
     "output_type": "execute_result"
    }
   ],
   "source": [
    "df_diagnosis = df_diagnosis[df_diagnosis.dcm_name != 'ISIC_0011433']\n",
    "df_diagnosis"
   ]
  },
  {
   "cell_type": "markdown",
   "id": "built-spending",
   "metadata": {},
   "source": [
    "___"
   ]
  },
  {
   "cell_type": "code",
   "execution_count": 14,
   "id": "approved-knife",
   "metadata": {},
   "outputs": [],
   "source": [
    "from sklearn.model_selection import train_test_split\n",
    "path = '/media/mestecha/Samsung_T5/SAGAN/ISIC-Archive/Data'"
   ]
  },
  {
   "cell_type": "code",
   "execution_count": 15,
   "id": "comic-nigeria",
   "metadata": {},
   "outputs": [],
   "source": [
    "y = df_diagnosis['target']"
   ]
  },
  {
   "cell_type": "code",
   "execution_count": 16,
   "id": "instant-blanket",
   "metadata": {},
   "outputs": [
    {
     "data": {
      "text/plain": [
       "22922"
      ]
     },
     "execution_count": 16,
     "metadata": {},
     "output_type": "execute_result"
    }
   ],
   "source": [
    "len(df_diagnosis)"
   ]
  },
  {
   "cell_type": "code",
   "execution_count": 17,
   "id": "revised-polish",
   "metadata": {},
   "outputs": [],
   "source": [
    "X_train, X_test, y_train, y_test = train_test_split(df_diagnosis, y, test_size=0.1, stratify=y)\n",
    "# X_train, X_val, y_train, y_val = train_test_split(X_train, y_train, test_size=0.2, stratify=y_train)"
   ]
  },
  {
   "cell_type": "code",
   "execution_count": 18,
   "id": "packed-malpractice",
   "metadata": {},
   "outputs": [
    {
     "name": "stdout",
     "output_type": "stream",
     "text": [
      "Train  feature size: 20629\n",
      "Test feature size: 2293\n",
      "Train target size: 20629\n",
      "Test target size: 2293\n"
     ]
    }
   ],
   "source": [
    "print(f'Train  feature size: {len(X_train)}')\n",
    "# print(f'Validation feature size: {len(X_val)}')\n",
    "print(f'Test feature size: {len(X_test)}')\n",
    "print(f'Train target size: {len(y_train)}')\n",
    "# print(f'Validation target size: {len(y_val)}')\n",
    "print(f'Test target size: {len(y_test)}')"
   ]
  },
  {
   "cell_type": "code",
   "execution_count": 19,
   "id": "related-referral",
   "metadata": {},
   "outputs": [],
   "source": [
    "df_diagnosis.to_csv(os.path.join(path, 'metadata.csv'), index = False, header=True)\n",
    "X_train.to_csv(os.path.join(path, 'train_data.csv'), index = False, header=True)\n",
    "# X_val.to_csv(os.path.join(path, 'val_data.csv'), index = False, header=True)\n",
    "X_test.to_csv(os.path.join(path, 'test_data.csv'), index = False, header=True)"
   ]
  },
  {
   "cell_type": "markdown",
   "id": "anonymous-justice",
   "metadata": {},
   "source": [
    "___"
   ]
  },
  {
   "cell_type": "code",
   "execution_count": 188,
   "id": "improving-investigator",
   "metadata": {},
   "outputs": [],
   "source": [
    "X_tiny, X_null, y_tiny, y_null = train_test_split(X_train, y_train, test_size=0.99, stratify=y_train)"
   ]
  },
  {
   "cell_type": "code",
   "execution_count": 189,
   "id": "focused-teach",
   "metadata": {},
   "outputs": [
    {
     "name": "stdout",
     "output_type": "stream",
     "text": [
      "Tiny  feature size: 146\n",
      "Null feature size: 14524\n",
      "Tiny target size: 146\n",
      "Null target size: 14524\n"
     ]
    }
   ],
   "source": [
    "print(f'Tiny  feature size: {len(X_tiny)}')\n",
    "print(f'Null feature size: {len(X_null)}')\n",
    "print(f'Tiny target size: {len(y_tiny)}')\n",
    "print(f'Null target size: {len(y_null)}')"
   ]
  },
  {
   "cell_type": "code",
   "execution_count": 192,
   "id": "racial-printing",
   "metadata": {},
   "outputs": [],
   "source": [
    "X_tiny.to_csv(os.path.join(path, 'tiny_data.csv'), index = False, header=True)"
   ]
  },
  {
   "cell_type": "markdown",
   "id": "material-faith",
   "metadata": {},
   "source": [
    "___"
   ]
  },
  {
   "cell_type": "code",
   "execution_count": 35,
   "id": "compliant-williams",
   "metadata": {},
   "outputs": [
    {
     "data": {
      "text/plain": [
       "16"
      ]
     },
     "execution_count": 35,
     "metadata": {},
     "output_type": "execute_result"
    }
   ],
   "source": [
    "len(df_diagnosis['diagnosis'].unique())"
   ]
  },
  {
   "cell_type": "code",
   "execution_count": 31,
   "id": "rising-distribution",
   "metadata": {},
   "outputs": [
    {
     "data": {
      "image/png": "[encoded data removed]",
      "text/plain": [
       "<Figure size 1152x432 with 2 Axes>"
      ]
     },
     "metadata": {},
     "output_type": "display_data"
    }
   ],
   "source": [
    "# Figure\n",
    "f, (ax1, ax2) = plt.subplots(1, 2, figsize = (16, 6))\n",
    "\n",
    "a = sns.countplot(df_diagnosis[df_diagnosis['target']==0]['diagnosis'], ax=ax1, palette = colors_nude)\n",
    "b = sns.countplot(df_diagnosis[df_diagnosis['target']==1]['diagnosis'], ax=ax2, palette = colors_nude)\n",
    "\n",
    "a.set_xticklabels(a.get_xticklabels(), rotation=35, ha=\"right\")\n",
    "b.set_xticklabels(b.get_xticklabels(), rotation=35, ha=\"right\")\n",
    "\n",
    "for p in a.patches:\n",
    "    a.annotate(format(p.get_height(), ','), \n",
    "           (p.get_x() + p.get_width() / 2., \n",
    "            p.get_height()), ha = 'center', va = 'center', \n",
    "           xytext = (0, 4), textcoords = 'offset points')\n",
    "    \n",
    "for p in b.patches:\n",
    "    b.annotate(format(p.get_height(), ','), \n",
    "           (p.get_x() + p.get_width() / 2., \n",
    "            p.get_height()), ha = 'center', va = 'center', \n",
    "           xytext = (0, 4), textcoords = 'offset points')\n",
    "    \n",
    "ax1.set_title('Benign cases: Diagnosis view', fontsize=16)\n",
    "ax2.set_title('Malignant cases: Diagnosis view', fontsize=16)\n",
    "sns.despine(left=True, bottom=True);"
   ]
  },
  {
   "cell_type": "code",
   "execution_count": null,
   "id": "cooked-territory",
   "metadata": {},
   "outputs": [],
   "source": []
  },
  {
   "cell_type": "code",
   "execution_count": null,
   "id": "royal-system",
   "metadata": {},
   "outputs": [],
   "source": []
  },
  {
   "cell_type": "code",
   "execution_count": null,
   "id": "fifty-stage",
   "metadata": {},
   "outputs": [],
   "source": []
  },
  {
   "cell_type": "code",
   "execution_count": null,
   "id": "otherwise-sunrise",
   "metadata": {},
   "outputs": [],
   "source": []
  },
  {
   "cell_type": "code",
   "execution_count": null,
   "id": "infinite-posting",
   "metadata": {},
   "outputs": [],
   "source": []
  },
  {
   "cell_type": "code",
   "execution_count": null,
   "id": "stuffed-champion",
   "metadata": {},
   "outputs": [],
   "source": []
  },
  {
   "cell_type": "code",
   "execution_count": null,
   "id": "crazy-attraction",
   "metadata": {},
   "outputs": [],
   "source": []
  },
  {
   "cell_type": "code",
   "execution_count": null,
   "id": "forbidden-twenty",
   "metadata": {},
   "outputs": [],
   "source": []
  },
  {
   "cell_type": "code",
   "execution_count": null,
   "id": "thousand-reward",
   "metadata": {},
   "outputs": [],
   "source": []
  },
  {
   "cell_type": "code",
   "execution_count": null,
   "id": "absent-inspiration",
   "metadata": {},
   "outputs": [],
   "source": []
  },
  {
   "cell_type": "code",
   "execution_count": null,
   "id": "above-london",
   "metadata": {},
   "outputs": [],
   "source": []
  },
  {
   "cell_type": "code",
   "execution_count": null,
   "id": "statutory-adelaide",
   "metadata": {},
   "outputs": [],
   "source": []
  },
  {
   "cell_type": "code",
   "execution_count": null,
   "id": "major-faith",
   "metadata": {},
   "outputs": [],
   "source": []
  }
 ],
 "metadata": {
  "kernelspec": {
   "display_name": "Python 3",
   "language": "python",
   "name": "python3"
  },
  "language_info": {
   "codemirror_mode": {
    "name": "ipython",
    "version": 3
   },
   "file_extension": ".py",
   "mimetype": "text/x-python",
   "name": "python",
   "nbconvert_exporter": "python",
   "pygments_lexer": "ipython3",
   "version": "3.7.9"
  }
 },
 "nbformat": 4,
 "nbformat_minor": 5
}
